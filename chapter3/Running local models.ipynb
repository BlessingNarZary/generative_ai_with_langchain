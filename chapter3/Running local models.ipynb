{
 "cells": [
  {
   "cell_type": "code",
   "execution_count": 4,
   "id": "37ac22e5-26d6-4671-8bba-8918cd5cf3c0",
   "metadata": {},
   "outputs": [],
   "source": [
    "# pip install accelerate"
   ]
  },
  {
   "cell_type": "code",
   "execution_count": null,
   "id": "20a9c618-2bf5-43c1-b88f-0484619cbad7",
   "metadata": {
    "is_executing": true
   },
   "outputs": [],
   "source": [
    "from transformers import pipeline\n",
    "\n",
    "generate_text = pipeline(\n",
    "    task=\"text-generation\",\n",
    "    model=\"liminerity/Phigments12\",  # \"google/gemma-2b-it\", microsoft/phi-2, liminerity/Phigments12\n",
    "    trust_remote_code=True,\n",
    "    torch_dtype=\"auto\",\n",
    "    device_map=\"auto\",\n",
    "    max_new_tokens=100  # don't forget this!\n",
    ")\n",
    "generate_text(\"In this chapter, we'll discuss first steps with generative AI in Python.\")"
   ]
  },
  {
   "cell_type": "code",
   "execution_count": null,
   "id": "6dc62295-b619-488a-9a46-e960336381af",
   "metadata": {
    "is_executing": true
   },
   "outputs": [],
   "source": [
    "from langchain_community.llms.huggingface_pipeline import HuggingFacePipeline\n",
    "\n",
    "hf = HuggingFacePipeline(pipeline=generate_text)"
   ]
  },
  {
   "cell_type": "code",
   "execution_count": null,
   "id": "d0a40529-fca7-42b6-87c4-dd7605374e73",
   "metadata": {},
   "outputs": [],
   "source": [
    "from langchain import PromptTemplate, LLMChain\n",
    "\n",
    "template = \"\"\"{question} Be concise!\"\"\"\n",
    "prompt = PromptTemplate(template=template, input_variables=[\"question\"])\n",
    "llm_chain = LLMChain(prompt=prompt, llm=hf)\n",
    "\n",
    "question = \"What is electroencephalography?\"\n",
    "\n",
    "print(llm_chain.invoke(question))"
   ]
  },
  {
   "cell_type": "code",
   "execution_count": null,
   "id": "962171de-c1f9-4425-9e38-00b9aeb4b660",
   "metadata": {},
   "outputs": [],
   "source": [
    "hf = HuggingFacePipeline.from_model_id(\n",
    "    model_id=\"gpt2\", task=\"text-generation\", pipeline_kwargs={\"max_new_tokens\": 100}\n",
    ")"
   ]
  },
  {
   "cell_type": "code",
   "execution_count": null,
   "id": "6c4a5c2d-01aa-4a6e-bc54-91aebc60d93a",
   "metadata": {},
   "outputs": [],
   "source": [
    "llm_chain = prompt | hf\n",
    "question = \"What is electroencephalography?\"\n",
    "print(llm_chain.invoke(question))"
   ]
  },
  {
   "cell_type": "code",
   "execution_count": null,
   "id": "1ec156a0-7540-4b01-a529-9c53b54957e5",
   "metadata": {},
   "outputs": [],
   "source": [
    "import os\n",
    "from langchain_community.llms import LlamaCpp\n",
    "\n",
    "llm = LlamaCpp(\n",
    "    model_path=os.path.expanduser(\"~/Downloads/Hermes-2-Pro-Mistral-7B.Q5_0.gguf\"),\n",
    "    verbose=True\n",
    ")"
   ]
  },
  {
   "cell_type": "code",
   "execution_count": null,
   "id": "e74ec20a-cda4-4e14-ace0-72294beece50",
   "metadata": {},
   "outputs": [],
   "source": [
    "llm.invoke(\"What's 3 trillion + 3 trillion?\")"
   ]
  },
  {
   "cell_type": "code",
   "execution_count": null,
   "id": "b7117554-dd7c-4140-832a-75fffd6283cc",
   "metadata": {
    "is_executing": true,
    "ExecuteTime": {
     "start_time": "2024-08-04T18:52:53.470908Z"
    }
   },
   "outputs": [],
   "source": [
    "import os\n",
    "from langchain_community.llms import GPT4All\n",
    "model = GPT4All(\n",
    "    model=os.path.expanduser(\"~/Downloads/Hermes-2-Pro-Mistral-7B.Q5_0.gguf\"),\n",
    ")\n",
    "response = model(\n",
    "    \"We can run large language models locally for all kinds of applications, \"\n",
    ")"
   ]
  },
  {
   "cell_type": "code",
   "execution_count": null,
   "id": "d3eaafae-61d6-4726-bc10-d36f160ab773",
   "metadata": {
    "is_executing": true
   },
   "outputs": [],
   "source": [
    "print(response)"
   ]
  },
  {
   "cell_type": "code",
   "execution_count": null,
   "id": "aa59203a-ab18-476b-819f-36566768bb73",
   "metadata": {},
   "outputs": [],
   "source": []
  }
 ],
 "metadata": {
  "kernelspec": {
   "display_name": "Python 3 (ipykernel)",
   "language": "python",
   "name": "python3"
  },
  "language_info": {
   "codemirror_mode": {
    "name": "ipython",
    "version": 3
   },
   "file_extension": ".py",
   "mimetype": "text/x-python",
   "name": "python",
   "nbconvert_exporter": "python",
   "pygments_lexer": "ipython3",
   "version": "3.11.8"
  }
 },
 "nbformat": 4,
 "nbformat_minor": 5
}
